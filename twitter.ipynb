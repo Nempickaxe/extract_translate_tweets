{
 "cells": [
  {
   "cell_type": "code",
   "execution_count": 242,
   "metadata": {},
   "outputs": [],
   "source": [
    "from dotenv import load_dotenv\n",
    "from pathlib import Path\n",
    "import os\n",
    "import csv\n",
    "import tweepy\n",
    "import json\n",
    "import datetime\n",
    "import pandas as pd\n",
    "import networkx as nx\n",
    "from yandex.Translater import Translater\n",
    "import swifter"
   ]
  },
  {
   "cell_type": "code",
   "execution_count": 232,
   "metadata": {},
   "outputs": [],
   "source": [
    "#file containing API_KEY, API_SECRET_KEY, ACCESS_TOKEN, ACCESS_TOKEN_SECRET\n",
    "twitter_env_path = Path('~') / 'credentials/.twitter'\n",
    "yandex_env_path = Path('~') / 'credentials/.yandex' #using yandex as it is free"
   ]
  },
  {
   "cell_type": "code",
   "execution_count": 233,
   "metadata": {},
   "outputs": [
    {
     "data": {
      "text/plain": [
       "True"
      ]
     },
     "execution_count": 233,
     "metadata": {},
     "output_type": "execute_result"
    }
   ],
   "source": [
    "load_dotenv(dotenv_path=twitter_env_path.expanduser())\n",
    "load_dotenv(dotenv_path=yandex_env_path.expanduser())"
   ]
  },
  {
   "cell_type": "code",
   "execution_count": 230,
   "metadata": {},
   "outputs": [],
   "source": [
    "def get_api():\n",
    "    if os.environ.get('API_KEY'):\n",
    "        auth = tweepy.OAuthHandler(os.environ['TWITTER_API_KEY'], os.environ['TWITTER_API_SECRET_KEY'])\n",
    "        auth.set_access_token(os.environ['TWITTER_ACCESS_TOKEN'], os.environ['TWITTER_ACCESS_TOKEN_SECRET'])\n",
    "        api = tweepy.API(auth)\n",
    "        if api.verify_credentials().screen_name:\n",
    "            return api\n",
    "        else:\n",
    "            raise Exception('Auth Error')\n",
    "    else:\n",
    "        raise Exception('Environment Variable not set')"
   ]
  },
  {
   "cell_type": "code",
   "execution_count": 211,
   "metadata": {},
   "outputs": [],
   "source": [
    "api = get_api()"
   ]
  },
  {
   "cell_type": "code",
   "execution_count": 212,
   "metadata": {},
   "outputs": [],
   "source": [
    "def get_tweets(name, tweet_id, api=api):\n",
    "    replies=[]\n",
    "    for tweet in api.user_timeline(screen_name='LukasHenselEcon', since_id=\"1238972871323652097\", tweet_mode='extended', count=50):\n",
    "        replies.append(tweet)\n",
    "    return replies"
   ]
  },
  {
   "cell_type": "code",
   "execution_count": 213,
   "metadata": {},
   "outputs": [],
   "source": [
    "def create_df(replies):\n",
    "    output = pd.DataFrame()\n",
    "    for tweet in replies:\n",
    "            row = {\n",
    "                    'user': tweet.user.screen_name.replace('=', ''),\n",
    "                    'text': tweet.full_text.replace('\\n', ' ').replace('=', ''),\n",
    "                    'created_at': tweet.created_at,\n",
    "                    'in_reply_to_screen_name': tweet.in_reply_to_screen_name,\n",
    "                    'in_reply_to_status_id_str': tweet.in_reply_to_status_id_str,\n",
    "                    'id': tweet.id_str\n",
    "                  }\n",
    "            output = output.append(row, ignore_index=True)\n",
    "\n",
    "    a = output.dropna(how='any').apply(lambda col: (col['id'], col['in_reply_to_status_id_str']), axis=1).tolist()\n",
    "    g1 = nx.Graph(a)\n",
    "    g2 = list(nx.connected_components(g1))\n",
    "    a = pd.DataFrame([(list(item), ind) for ind, item in enumerate(g2)], columns=['ids', 'cluster'])\n",
    "    b = a.set_index('cluster')['ids'].apply(pd.Series).stack().reset_index(level=1, drop=True).to_frame('id').reset_index()\n",
    "    output = output.merge(b, on='id')\n",
    "    cluster_id = output.loc[output['id']==tweet_id]['cluster'].values[0]\n",
    "    output = output.loc[output['cluster']==cluster_id]\n",
    "    output = output.sort_values(by='created_at')\n",
    "    output['created_at'] = output['created_at'].apply(lambda x: x.strftime(\"%m/%d/%Y, %H:%M:%S\"))\n",
    "    return output"
   ]
  },
  {
   "cell_type": "code",
   "execution_count": 214,
   "metadata": {},
   "outputs": [],
   "source": [
    "def get_thread(name, tweet_id, api=api):\n",
    "    tweets = get_tweets(name, tweet_id, api=api)\n",
    "    return create_df(replies)"
   ]
  },
  {
   "cell_type": "code",
   "execution_count": 215,
   "metadata": {},
   "outputs": [],
   "source": [
    "output = get_thread('LukasHenselEcon', '1240494951177302016')"
   ]
  },
  {
   "cell_type": "code",
   "execution_count": 243,
   "metadata": {},
   "outputs": [],
   "source": [
    "def translate_text(text, from_lang='en', to_lang='hi'):\n",
    "    '''\n",
    "    supported languages: https://tech.yandex.com/translate/doc/dg/concepts/api-overview-docpage/\n",
    "    '''\n",
    "    tr = Translater()\n",
    "    tr.set_key(os.environ['YANDEX_KEY'])\n",
    "    tr.set_from_lang(from_lang)\n",
    "    tr.set_to_lang(to_lang)\n",
    "    tr.text = text\n",
    "    return tr.translate()"
   ]
  },
  {
   "cell_type": "code",
   "execution_count": 245,
   "metadata": {},
   "outputs": [
    {
     "data": {
      "application/vnd.jupyter.widget-view+json": {
       "model_id": "059e5e92f1a045d8bc3576c66b6f8f88",
       "version_major": 2,
       "version_minor": 0
      },
      "text/plain": [
       "HBox(children=(FloatProgress(value=0.0, description='Pandas Apply', max=18.0, style=ProgressStyle(description_…"
      ]
     },
     "metadata": {},
     "output_type": "display_data"
    },
    {
     "name": "stdout",
     "output_type": "stream",
     "text": [
      "\n"
     ]
    }
   ],
   "source": [
    "output['translated_text'] = output['text'].swifter.apply(translate_text)"
   ]
  },
  {
   "cell_type": "code",
   "execution_count": 253,
   "metadata": {},
   "outputs": [
    {
     "data": {
      "text/html": [
       "<div>\n",
       "<style scoped>\n",
       "    .dataframe tbody tr th:only-of-type {\n",
       "        vertical-align: middle;\n",
       "    }\n",
       "\n",
       "    .dataframe tbody tr th {\n",
       "        vertical-align: top;\n",
       "    }\n",
       "\n",
       "    .dataframe thead th {\n",
       "        text-align: right;\n",
       "    }\n",
       "</style>\n",
       "<table border=\"1\" class=\"dataframe\">\n",
       "  <thead>\n",
       "    <tr style=\"text-align: right;\">\n",
       "      <th></th>\n",
       "      <th>created_at</th>\n",
       "      <th>id</th>\n",
       "      <th>in_reply_to_screen_name</th>\n",
       "      <th>in_reply_to_status_id_str</th>\n",
       "      <th>text</th>\n",
       "      <th>user</th>\n",
       "      <th>cluster</th>\n",
       "      <th>translated_text</th>\n",
       "    </tr>\n",
       "  </thead>\n",
       "  <tbody>\n",
       "    <tr>\n",
       "      <th>27</th>\n",
       "      <td>03/19/2020, 04:26:58</td>\n",
       "      <td>1240494951177302016</td>\n",
       "      <td>None</td>\n",
       "      <td>None</td>\n",
       "      <td>My partner and I traveled from London Heathrow...</td>\n",
       "      <td>LukasHenselEcon</td>\n",
       "      <td>10</td>\n",
       "      <td>मेरे साथी और मैं से कूच लंदन के हीथ्रो, बीजिंग...</td>\n",
       "    </tr>\n",
       "    <tr>\n",
       "      <th>26</th>\n",
       "      <td>03/19/2020, 04:42:24</td>\n",
       "      <td>1240498836583284736</td>\n",
       "      <td>LukasHenselEcon</td>\n",
       "      <td>1240494951177302016</td>\n",
       "      <td>Heathrow airport was quite busy. We wore facem...</td>\n",
       "      <td>LukasHenselEcon</td>\n",
       "      <td>10</td>\n",
       "      <td>हीथ्रो हवाई अड्डा काफी व्यस्त था. हम पहनी थी f...</td>\n",
       "    </tr>\n",
       "    <tr>\n",
       "      <th>25</th>\n",
       "      <td>03/19/2020, 04:42:25</td>\n",
       "      <td>1240498840542875648</td>\n",
       "      <td>LukasHenselEcon</td>\n",
       "      <td>1240498836583284736</td>\n",
       "      <td>Aside: My perceptions of social norms in Europ...</td>\n",
       "      <td>LukasHenselEcon</td>\n",
       "      <td>10</td>\n",
       "      <td>एक तरफ: मेरी धारणा सामाजिक मानदंडों के यूरोप म...</td>\n",
       "    </tr>\n",
       "    <tr>\n",
       "      <th>24</th>\n",
       "      <td>03/19/2020, 04:42:26</td>\n",
       "      <td>1240498844921548806</td>\n",
       "      <td>LukasHenselEcon</td>\n",
       "      <td>1240498840542875648</td>\n",
       "      <td>An interesting question is whether COVID-19 wi...</td>\n",
       "      <td>LukasHenselEcon</td>\n",
       "      <td>10</td>\n",
       "      <td>एक दिलचस्प सवाल यह है कि क्या COVID-19 बदल जाए...</td>\n",
       "    </tr>\n",
       "    <tr>\n",
       "      <th>23</th>\n",
       "      <td>03/19/2020, 04:42:28</td>\n",
       "      <td>1240498853431758849</td>\n",
       "      <td>LukasHenselEcon</td>\n",
       "      <td>1240498844921548806</td>\n",
       "      <td>During our trip, temperature measurement was v...</td>\n",
       "      <td>LukasHenselEcon</td>\n",
       "      <td>10</td>\n",
       "      <td>के दौरान हमारे यात्रा, तापमान माप था बहुत अक्स...</td>\n",
       "    </tr>\n",
       "  </tbody>\n",
       "</table>\n",
       "</div>"
      ],
      "text/plain": [
       "              created_at                   id in_reply_to_screen_name  \\\n",
       "27  03/19/2020, 04:26:58  1240494951177302016                    None   \n",
       "26  03/19/2020, 04:42:24  1240498836583284736         LukasHenselEcon   \n",
       "25  03/19/2020, 04:42:25  1240498840542875648         LukasHenselEcon   \n",
       "24  03/19/2020, 04:42:26  1240498844921548806         LukasHenselEcon   \n",
       "23  03/19/2020, 04:42:28  1240498853431758849         LukasHenselEcon   \n",
       "\n",
       "   in_reply_to_status_id_str  \\\n",
       "27                      None   \n",
       "26       1240494951177302016   \n",
       "25       1240498836583284736   \n",
       "24       1240498840542875648   \n",
       "23       1240498844921548806   \n",
       "\n",
       "                                                 text             user  \\\n",
       "27  My partner and I traveled from London Heathrow...  LukasHenselEcon   \n",
       "26  Heathrow airport was quite busy. We wore facem...  LukasHenselEcon   \n",
       "25  Aside: My perceptions of social norms in Europ...  LukasHenselEcon   \n",
       "24  An interesting question is whether COVID-19 wi...  LukasHenselEcon   \n",
       "23  During our trip, temperature measurement was v...  LukasHenselEcon   \n",
       "\n",
       "    cluster                                    translated_text  \n",
       "27       10  मेरे साथी और मैं से कूच लंदन के हीथ्रो, बीजिंग...  \n",
       "26       10  हीथ्रो हवाई अड्डा काफी व्यस्त था. हम पहनी थी f...  \n",
       "25       10  एक तरफ: मेरी धारणा सामाजिक मानदंडों के यूरोप म...  \n",
       "24       10  एक दिलचस्प सवाल यह है कि क्या COVID-19 बदल जाए...  \n",
       "23       10  के दौरान हमारे यात्रा, तापमान माप था बहुत अक्स...  "
      ]
     },
     "execution_count": 253,
     "metadata": {},
     "output_type": "execute_result"
    }
   ],
   "source": [
    "output.head()"
   ]
  },
  {
   "cell_type": "code",
   "execution_count": 252,
   "metadata": {},
   "outputs": [],
   "source": [
    "output.to_csv('translated_tweets.csv')"
   ]
  }
 ],
 "metadata": {
  "kernelspec": {
   "display_name": "Python 3",
   "language": "python",
   "name": "python3"
  },
  "language_info": {
   "codemirror_mode": {
    "name": "ipython",
    "version": 3
   },
   "file_extension": ".py",
   "mimetype": "text/x-python",
   "name": "python",
   "nbconvert_exporter": "python",
   "pygments_lexer": "ipython3",
   "version": "3.7.3"
  }
 },
 "nbformat": 4,
 "nbformat_minor": 4
}
